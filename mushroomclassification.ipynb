{
 "cells": [
  {
   "cell_type": "markdown",
   "metadata": {},
   "source": [
    "Importing the necessary libraries"
   ]
  },
  {
   "cell_type": "code",
   "execution_count": 22,
   "metadata": {
    "_cell_guid": "b1076dfc-b9ad-4769-8c92-a6c4dae69d19",
    "_uuid": "8f2839f25d086af736a60e9eeb907d3b93b6e0e5",
    "scrolled": true
   },
   "outputs": [],
   "source": [
    "# This Python 3 environment comes with many helpful analytics libraries installed\n",
    "# It is defined by the kaggle/python docker image: https://github.com/kaggle/docker-python\n",
    "# For example, here's several helpful packages to load in \n",
    "\n",
    "import numpy as np # linear algebra\n",
    "import pandas as pd # data processing, CSV file I/O (e.g. pd.read_csv)\n",
    "from sklearn.model_selection import train_test_split\n",
    "from sklearn.linear_model import LogisticRegression\n",
    "from sklearn.tree import DecisionTreeClassifier\n",
    "from sklearn.ensemble import RandomForestClassifier\n",
    "from sklearn.neighbors import KNeighborsClassifier\n",
    "from sklearn.naive_bayes import GaussianNB\n",
    "from sklearn.svm import SVC\n",
    "from sklearn.metrics import accuracy_score,confusion_matrix, ConfusionMatrixDisplay\n",
    "from sklearn.metrics import plot_confusion_matrix\n",
    "import matplotlib.pyplot as plt\n",
    "from tensorflow import keras\n",
    "from tensorflow.keras import layers\n",
    "from tensorflow.keras.models import Sequential\n",
    "\n",
    "\n",
    "# Any results you write to the current directory are saved as output."
   ]
  },
  {
   "cell_type": "code",
   "execution_count": 3,
   "metadata": {
    "scrolled": true
   },
   "outputs": [
    {
     "name": "stdout",
     "output_type": "stream",
     "text": [
      "sklearn: 0.24.1\n"
     ]
    }
   ],
   "source": [
    "import sklearn\n",
    "print('sklearn: {}'.format(sklearn.__version__))"
   ]
  },
  {
   "cell_type": "markdown",
   "metadata": {},
   "source": [
    "Let's look at the data. "
   ]
  },
  {
   "cell_type": "code",
   "execution_count": 4,
   "metadata": {
    "_cell_guid": "79c7e3d0-c299-4dcb-8224-4455121ee9b0",
    "_uuid": "d629ff2d2480ee46fbb7e2d37f6b5fab8052498a"
   },
   "outputs": [
    {
     "data": {
      "text/plain": [
       "Index(['class', 'cap-shape', 'cap-surface', 'cap-color', 'bruises', 'odor',\n",
       "       'gill-attachment', 'gill-spacing', 'gill-size', 'gill-color',\n",
       "       'stalk-shape', 'stalk-root', 'stalk-surface-above-ring',\n",
       "       'stalk-surface-below-ring', 'stalk-color-above-ring',\n",
       "       'stalk-color-below-ring', 'veil-type', 'veil-color', 'ring-number',\n",
       "       'ring-type', 'spore-print-color', 'population', 'habitat'],\n",
       "      dtype='object')"
      ]
     },
     "execution_count": 4,
     "metadata": {},
     "output_type": "execute_result"
    }
   ],
   "source": [
    "train=pd.DataFrame(pd.read_csv('./mushrooms.csv'))\n",
    "train.columns"
   ]
  },
  {
   "cell_type": "markdown",
   "metadata": {},
   "source": [
    "Renaming the columns "
   ]
  },
  {
   "cell_type": "code",
   "execution_count": 5,
   "metadata": {},
   "outputs": [],
   "source": [
    "train.columns=['class', 'cap_shape', 'cap_surface', 'cap_color', 'bruises', 'odor',\n",
    "       'gill_attachment', 'gill_spacing', 'gill_size', 'gill_color',\n",
    "       'stalk_shape', 'stalk_root', 'stalk_surface_above_ring',\n",
    "       'stalk_surface_below_ring', 'stalk_color_above_ring',\n",
    "       'stalk_color_below_ring', 'veil_type', 'veil_color', 'ring_number',\n",
    "       'ring_type', 'spore_print_color', 'population', 'habitat']"
   ]
  },
  {
   "cell_type": "markdown",
   "metadata": {},
   "source": [
    "Checking for missing values"
   ]
  },
  {
   "cell_type": "code",
   "execution_count": 6,
   "metadata": {
    "scrolled": true
   },
   "outputs": [
    {
     "data": {
      "text/plain": [
       "class                       0\n",
       "cap_shape                   0\n",
       "cap_surface                 0\n",
       "cap_color                   0\n",
       "bruises                     0\n",
       "odor                        0\n",
       "gill_attachment             0\n",
       "gill_spacing                0\n",
       "gill_size                   0\n",
       "gill_color                  0\n",
       "stalk_shape                 0\n",
       "stalk_root                  0\n",
       "stalk_surface_above_ring    0\n",
       "stalk_surface_below_ring    0\n",
       "stalk_color_above_ring      0\n",
       "stalk_color_below_ring      0\n",
       "veil_type                   0\n",
       "veil_color                  0\n",
       "ring_number                 0\n",
       "ring_type                   0\n",
       "spore_print_color           0\n",
       "population                  0\n",
       "habitat                     0\n",
       "dtype: int64"
      ]
     },
     "execution_count": 6,
     "metadata": {},
     "output_type": "execute_result"
    }
   ],
   "source": [
    "train.head(5)\n",
    "train.isna().sum()\n",
    "#train['stalk-root'].unique()\n"
   ]
  },
  {
   "cell_type": "code",
   "execution_count": 7,
   "metadata": {
    "scrolled": false
   },
   "outputs": [
    {
     "data": {
      "text/plain": [
       "class                       object\n",
       "cap_shape                   object\n",
       "cap_surface                 object\n",
       "cap_color                   object\n",
       "bruises                     object\n",
       "odor                        object\n",
       "gill_attachment             object\n",
       "gill_spacing                object\n",
       "gill_size                   object\n",
       "gill_color                  object\n",
       "stalk_shape                 object\n",
       "stalk_root                  object\n",
       "stalk_surface_above_ring    object\n",
       "stalk_surface_below_ring    object\n",
       "stalk_color_above_ring      object\n",
       "stalk_color_below_ring      object\n",
       "veil_type                   object\n",
       "veil_color                  object\n",
       "ring_number                 object\n",
       "ring_type                   object\n",
       "spore_print_color           object\n",
       "population                  object\n",
       "habitat                     object\n",
       "dtype: object"
      ]
     },
     "execution_count": 7,
     "metadata": {},
     "output_type": "execute_result"
    }
   ],
   "source": [
    "train.dtypes"
   ]
  },
  {
   "cell_type": "markdown",
   "metadata": {},
   "source": [
    "Let's map Categorical variables"
   ]
  },
  {
   "cell_type": "code",
   "execution_count": 8,
   "metadata": {},
   "outputs": [
    {
     "data": {
      "text/plain": [
       "(23, 23)"
      ]
     },
     "execution_count": 8,
     "metadata": {},
     "output_type": "execute_result"
    }
   ],
   "source": [
    "mapping=[{'e':1,'p':0},\n",
    "         {'b':0,'c':1,'x':2,'f':3, 'k':4,'s':5},\n",
    "         {'f':0,'g':1,'y':2,'s':3},\n",
    "         {'n':0,'b':1,'c':2,'g':3,'r':4,'p':5,'u':6,'e':7,'w':8,'y':9},\n",
    "         {'t':1,'f':0},\n",
    "         {'a':1,'l':2,'c':3,'y':4,'f':5,'m':6,'n':0,'p':7,'s':8},\n",
    "         {'a':0,'d':1, 'f':2, 'n':3},\n",
    "         {'c':0,'w':1,'d':2},\n",
    "         {'b':0,'n':1},\n",
    "         {'k':0,'n':1,'b':2,'h':3,'g':4,'r':5,'o':6,'p':7,'u':8,'e':9,'w':10,'y':11},\n",
    "         { 'e':0,'t':1},{'b':0,'c':1,'u':2,'e':3,'z':4,'r':5,'?':6},\n",
    "         {'f':0,'y':1,'k':2,'s':3},\n",
    "         {'f':0,'y':1,'k':2,'s':3},\n",
    "         {'n':0,'b':1,'c':2,'g':3,'o':4,'p':5,'e':5,'w':6,'y':7},\n",
    "         {'n':0,'b':1,'c':2,'g':3,'o':4,'p':5,'e':6,'w':7,'y':8},\n",
    "         {'p':0,'u':1},\n",
    "         {'n':0,'o':1,'w':2,'y':3},\n",
    "         {'n':0,'o':1,'t':2},\n",
    "         {'c':4,'e':1,'f':2,'l':3,'n':0,'p':5,'s':6,'z':7},\n",
    "         {'k':0,'n':1,'b':2,'h':3,'r':4,'o':5,'u':6,'w':7,'y':8},\n",
    "         {'a':0,'c':1,'n':2,'s':3,'v':4,'y':5},\n",
    "         {'g':0,'l':1,'m':2,'p':3,'u':4,'w':5,'d':6}]\n",
    "len(mapping),len(train.columns)"
   ]
  },
  {
   "cell_type": "code",
   "execution_count": 9,
   "metadata": {},
   "outputs": [],
   "source": [
    "for i in range(len(train.columns)):\n",
    "    train[train.columns[i]]=train[train.columns[i]].map(mapping[i]).astype(int)\n"
   ]
  },
  {
   "cell_type": "markdown",
   "metadata": {},
   "source": [
    "Data types have changed from object to int"
   ]
  },
  {
   "cell_type": "code",
   "execution_count": 10,
   "metadata": {},
   "outputs": [
    {
     "data": {
      "text/plain": [
       "(8124, 23)"
      ]
     },
     "execution_count": 10,
     "metadata": {},
     "output_type": "execute_result"
    }
   ],
   "source": [
    "train.shape"
   ]
  },
  {
   "cell_type": "markdown",
   "metadata": {},
   "source": [
    "Separating depend varible from predictors and splitting the dataset"
   ]
  },
  {
   "cell_type": "code",
   "execution_count": 11,
   "metadata": {},
   "outputs": [],
   "source": [
    "x=train.iloc[:,1:]\n",
    "y=train.iloc[:,0]\n",
    "x_tr,x_ts,y_tr,y_ts=train_test_split(x,y,test_size=0.2)"
   ]
  },
  {
   "cell_type": "markdown",
   "metadata": {},
   "source": [
    "Predictions using Logistic regression"
   ]
  },
  {
   "cell_type": "code",
   "execution_count": 12,
   "metadata": {},
   "outputs": [
    {
     "name": "stderr",
     "output_type": "stream",
     "text": [
      "/Users/pf/opt/anaconda3/lib/python3.7/site-packages/sklearn/linear_model/_logistic.py:765: ConvergenceWarning: lbfgs failed to converge (status=1):\n",
      "STOP: TOTAL NO. of ITERATIONS REACHED LIMIT.\n",
      "\n",
      "Increase the number of iterations (max_iter) or scale the data as shown in:\n",
      "    https://scikit-learn.org/stable/modules/preprocessing.html\n",
      "Please also refer to the documentation for alternative solver options:\n",
      "    https://scikit-learn.org/stable/modules/linear_model.html#logistic-regression\n",
      "  extra_warning_msg=_LOGISTIC_SOLVER_CONVERGENCE_MSG)\n"
     ]
    },
    {
     "data": {
      "text/plain": [
       "(0.9889230769230769, array([[798,  10],\n",
       "        [  8, 809]]))"
      ]
     },
     "execution_count": 12,
     "metadata": {},
     "output_type": "execute_result"
    }
   ],
   "source": [
    "lr=LogisticRegression()\n",
    "lr.fit(x_tr,y_tr)\n",
    "accuracy_score(y_ts,lr.predict(x_ts)),confusion_matrix(y_ts,lr.predict(x_ts))"
   ]
  },
  {
   "cell_type": "markdown",
   "metadata": {},
   "source": [
    "Linear SVM"
   ]
  },
  {
   "cell_type": "code",
   "execution_count": 14,
   "metadata": {},
   "outputs": [
    {
     "data": {
      "text/plain": [
       "(0.9932307692307693, array([[805,   3],\n",
       "        [  8, 809]]))"
      ]
     },
     "execution_count": 14,
     "metadata": {},
     "output_type": "execute_result"
    }
   ],
   "source": [
    "svm = SVC(kernel='linear',random_state=0)\n",
    "svm.fit(x_tr,y_tr)\n",
    "ysvc_pred=svm.predict(x_ts)\n",
    "accuracy_score(y_ts,ysvc_pred),confusion_matrix(y_ts,ysvc_pred)\n"
   ]
  },
  {
   "cell_type": "markdown",
   "metadata": {},
   "source": [
    "Kernel SVM"
   ]
  },
  {
   "cell_type": "code",
   "execution_count": 26,
   "metadata": {},
   "outputs": [
    {
     "data": {
      "image/png": "[encoded data removed]",
      "text/plain": [
       "<Figure size 432x288 with 2 Axes>"
      ]
     },
     "metadata": {
      "needs_background": "light"
     },
     "output_type": "display_data"
    }
   ],
   "source": [
    "kersvm=SVC(kernel='rbf',random_state=0)\n",
    "kersvm.fit(x_tr,y_tr)\n",
    "yksvm_pred=kersvm.predict(x_ts)\n",
    "accuracy_score(y_ts,yksvm_pred)\n",
    "\n",
    "cm = confusion_matrix(y_ts,yksvm_pred)\n",
    "\n",
    "disp = ConfusionMatrixDisplay(confusion_matrix=cm).plot()"
   ]
  },
  {
   "cell_type": "markdown",
   "metadata": {},
   "source": [
    "Naive Bayes"
   ]
  },
  {
   "cell_type": "code",
   "execution_count": 27,
   "metadata": {
    "scrolled": true
   },
   "outputs": [
    {
     "data": {
      "image/png": "[encoded data removed]",
      "text/plain": [
       "<Figure size 432x288 with 2 Axes>"
      ]
     },
     "metadata": {
      "needs_background": "light"
     },
     "output_type": "display_data"
    }
   ],
   "source": [
    "gnb=GaussianNB()\n",
    "gnb.fit(x_tr,y_tr)\n",
    "ygnb_pred=gnb.predict(x_ts)\n",
    "accuracy_score(y_ts,ygnb_pred)\n",
    "cm = confusion_matrix(y_ts,ygnb_pred)\n",
    "\n",
    "disp = ConfusionMatrixDisplay(confusion_matrix=cm).plot()"
   ]
  },
  {
   "cell_type": "markdown",
   "metadata": {},
   "source": [
    "Random Forest"
   ]
  },
  {
   "cell_type": "code",
   "execution_count": 18,
   "metadata": {},
   "outputs": [
    {
     "data": {
      "text/plain": [
       "(1.0, array([[808,   0],\n",
       "        [  0, 817]]))"
      ]
     },
     "execution_count": 18,
     "metadata": {},
     "output_type": "execute_result"
    }
   ],
   "source": [
    "rf=RandomForestClassifier(random_state=0,n_estimators=100)\n",
    "rf.fit(x_tr,y_tr)\n",
    "yrf_pred=rf.predict(x_ts)\n",
    "accuracy_score(y_ts,yrf_pred),confusion_matrix(y_ts,yrf_pred)\n"
   ]
  },
  {
   "cell_type": "markdown",
   "metadata": {},
   "source": [
    "For the task submission , Using ANN"
   ]
  },
  {
   "cell_type": "code",
   "execution_count": 19,
   "metadata": {
    "scrolled": true
   },
   "outputs": [
    {
     "name": "stdout",
     "output_type": "stream",
     "text": [
      "Epoch 1/20\n",
      "204/204 [==============================] - 0s 794us/step - loss: 0.2259 - accuracy: 0.9140\n",
      "Epoch 2/20\n",
      "204/204 [==============================] - 0s 621us/step - loss: 0.0533 - accuracy: 0.9811\n",
      "Epoch 3/20\n",
      "204/204 [==============================] - 0s 632us/step - loss: 0.0265 - accuracy: 0.9889\n",
      "Epoch 4/20\n",
      "204/204 [==============================] - 0s 650us/step - loss: 0.0159 - accuracy: 0.9954\n",
      "Epoch 5/20\n",
      "204/204 [==============================] - 0s 686us/step - loss: 0.0098 - accuracy: 0.9969\n",
      "Epoch 6/20\n",
      "204/204 [==============================] - 0s 720us/step - loss: 0.0062 - accuracy: 0.9992\n",
      "Epoch 7/20\n",
      "204/204 [==============================] - 0s 639us/step - loss: 0.0043 - accuracy: 0.9997\n",
      "Epoch 8/20\n",
      "204/204 [==============================] - 0s 627us/step - loss: 0.0032 - accuracy: 0.9994\n",
      "Epoch 9/20\n",
      "204/204 [==============================] - 0s 644us/step - loss: 0.0023 - accuracy: 0.9998\n",
      "Epoch 10/20\n",
      "204/204 [==============================] - 0s 649us/step - loss: 0.0016 - accuracy: 0.9998\n",
      "Epoch 11/20\n",
      "204/204 [==============================] - 0s 703us/step - loss: 0.0014 - accuracy: 1.0000\n",
      "Epoch 12/20\n",
      "204/204 [==============================] - 0s 654us/step - loss: 9.5333e-04 - accuracy: 1.0000\n",
      "Epoch 13/20\n",
      "204/204 [==============================] - 0s 716us/step - loss: 8.4703e-04 - accuracy: 0.9998\n",
      "Epoch 14/20\n",
      "204/204 [==============================] - 0s 642us/step - loss: 5.2659e-04 - accuracy: 1.0000\n",
      "Epoch 15/20\n",
      "204/204 [==============================] - 0s 661us/step - loss: 4.7813e-04 - accuracy: 1.0000\n",
      "Epoch 16/20\n",
      "204/204 [==============================] - 0s 630us/step - loss: 3.5195e-04 - accuracy: 1.0000\n",
      "Epoch 17/20\n",
      "204/204 [==============================] - 0s 638us/step - loss: 2.8361e-04 - accuracy: 1.0000\n",
      "Epoch 18/20\n",
      "204/204 [==============================] - 0s 682us/step - loss: 2.4315e-04 - accuracy: 1.0000\n",
      "Epoch 19/20\n",
      "204/204 [==============================] - 0s 671us/step - loss: 1.9351e-04 - accuracy: 1.0000\n",
      "Epoch 20/20\n",
      "204/204 [==============================] - 0s 634us/step - loss: 1.8420e-04 - accuracy: 1.0000\n"
     ]
    }
   ],
   "source": [
    "model = Sequential([\n",
    "    layers.Dense(32, activation='relu'),\n",
    "    layers.Dense(16, activation='relu'),\n",
    "    layers.Dense(1, activation='sigmoid')\n",
    "])\n",
    "\n",
    "epochs = 20\n",
    "\n",
    "model.compile(optimizer='adam',loss='binary_crossentropy',metrics=['accuracy'])\n",
    "history = model.fit(x_tr,y_tr,epochs=epochs)\n",
    "\n"
   ]
  },
  {
   "cell_type": "code",
   "execution_count": 20,
   "metadata": {},
   "outputs": [
    {
     "data": {
      "image/png": "[encoded data removed]",
      "text/plain": [
       "<Figure size 576x576 with 2 Axes>"
      ]
     },
     "metadata": {
      "needs_background": "light"
     },
     "output_type": "display_data"
    }
   ],
   "source": [
    "acc = history.history['accuracy']\n",
    "\n",
    "loss = history.history['loss']\n",
    "\n",
    "epochs_range = range(epochs)\n",
    "\n",
    "plt.figure(figsize=(8, 8))\n",
    "plt.subplot(1, 2, 1)\n",
    "plt.plot(epochs_range, acc, label='Training Accuracy')\n",
    "plt.legend(loc='lower right')\n",
    "plt.title('Training  Accuracy')\n",
    "\n",
    "plt.subplot(1, 2, 2)\n",
    "plt.plot(epochs_range, loss, label='Training Loss')\n",
    "plt.legend(loc='upper right')\n",
    "plt.title('Training Loss')\n",
    "plt.show()"
   ]
  },
  {
   "cell_type": "code",
   "execution_count": 25,
   "metadata": {
    "scrolled": true
   },
   "outputs": [
    {
     "data": {
      "image/png": "[encoded data removed]",
      "text/plain": [
       "<Figure size 432x288 with 2 Axes>"
      ]
     },
     "metadata": {
      "needs_background": "light"
     },
     "output_type": "display_data"
    }
   ],
   "source": [
    "y_pred=model.predict(x_ts)\n",
    "y_pred=y_pred>0.5\n",
    "\n",
    "cm = confusion_matrix(y_ts, y_pred)  \n",
    "\n",
    "disp = ConfusionMatrixDisplay(confusion_matrix=cm).plot()"
   ]
  },
  {
   "cell_type": "markdown",
   "metadata": {},
   "source": [
    "The unmaaping can be done in the same using dictonaries . This shows how simple encoding helps model predict give accurate results. If you found this helpful do upvote.  Thanks in advance !. "
   ]
  }
 ],
 "metadata": {
  "kernelspec": {
   "display_name": "Python 3",
   "language": "python",
   "name": "python3"
  },
  "language_info": {
   "codemirror_mode": {
    "name": "ipython",
    "version": 3
   },
   "file_extension": ".py",
   "mimetype": "text/x-python",
   "name": "python",
   "nbconvert_exporter": "python",
   "pygments_lexer": "ipython3",
   "version": "3.7.4"
  }
 },
 "nbformat": 4,
 "nbformat_minor": 1
}
