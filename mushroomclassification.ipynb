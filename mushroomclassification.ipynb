{
 "cells": [
  {
   "cell_type": "markdown",
   "metadata": {},
   "source": [
    "Importing the necessary libraries"
   ]
  },
  {
   "cell_type": "code",
   "execution_count": 1,
   "metadata": {
    "_cell_guid": "b1076dfc-b9ad-4769-8c92-a6c4dae69d19",
    "_uuid": "8f2839f25d086af736a60e9eeb907d3b93b6e0e5",
    "scrolled": true
   },
   "outputs": [],
   "source": [
    "# This Python 3 environment comes with many helpful analytics libraries installed\n",
    "# It is defined by the kaggle/python docker image: https://github.com/kaggle/docker-python\n",
    "# For example, here's several helpful packages to load in \n",
    "\n",
    "import numpy as np # linear algebra\n",
    "import pandas as pd # data processing, CSV file I/O (e.g. pd.read_csv)\n",
    "from sklearn.model_selection import train_test_split\n",
    "from sklearn.linear_model import LogisticRegression\n",
    "from sklearn.tree import DecisionTreeClassifier\n",
    "from sklearn.ensemble import RandomForestClassifier\n",
    "from sklearn.neighbors import KNeighborsClassifier\n",
    "from sklearn.naive_bayes import GaussianNB\n",
    "from sklearn.svm import SVC\n",
    "from sklearn.metrics import accuracy_score,confusion_matrix, ConfusionMatrixDisplay\n",
    "from sklearn.metrics import plot_confusion_matrix\n",
    "import matplotlib.pyplot as plt\n",
    "from tensorflow import keras\n",
    "from tensorflow.keras import layers\n",
    "from tensorflow.keras.models import Sequential\n",
    "from tensorflow.keras.layers import Dense\n",
    "# Any results you write to the current directory are saved as output."
   ]
  },
  {
   "cell_type": "markdown",
   "metadata": {},
   "source": [
    "Let's look at the data. "
   ]
  },
  {
   "cell_type": "code",
   "execution_count": 2,
   "metadata": {
    "_cell_guid": "79c7e3d0-c299-4dcb-8224-4455121ee9b0",
    "_uuid": "d629ff2d2480ee46fbb7e2d37f6b5fab8052498a"
   },
   "outputs": [
    {
     "data": {
      "text/plain": [
       "Index(['class', 'cap-shape', 'cap-surface', 'cap-color', 'bruises', 'odor',\n",
       "       'gill-attachment', 'gill-spacing', 'gill-size', 'gill-color',\n",
       "       'stalk-shape', 'stalk-root', 'stalk-surface-above-ring',\n",
       "       'stalk-surface-below-ring', 'stalk-color-above-ring',\n",
       "       'stalk-color-below-ring', 'veil-type', 'veil-color', 'ring-number',\n",
       "       'ring-type', 'spore-print-color', 'population', 'habitat'],\n",
       "      dtype='object')"
      ]
     },
     "execution_count": 2,
     "metadata": {},
     "output_type": "execute_result"
    }
   ],
   "source": [
    "train=pd.DataFrame(pd.read_csv('./mushrooms.csv'))\n",
    "train.columns"
   ]
  },
  {
   "cell_type": "markdown",
   "metadata": {},
   "source": [
    "Renaming the columns "
   ]
  },
  {
   "cell_type": "code",
   "execution_count": 3,
   "metadata": {},
   "outputs": [],
   "source": [
    "train.columns=['class', 'cap_shape', 'cap_surface', 'cap_color', 'bruises', 'odor',\n",
    "       'gill_attachment', 'gill_spacing', 'gill_size', 'gill_color',\n",
    "       'stalk_shape', 'stalk_root', 'stalk_surface_above_ring',\n",
    "       'stalk_surface_below_ring', 'stalk_color_above_ring',\n",
    "       'stalk_color_below_ring', 'veil_type', 'veil_color', 'ring_number',\n",
    "       'ring_type', 'spore_print_color', 'population', 'habitat']"
   ]
  },
  {
   "cell_type": "markdown",
   "metadata": {},
   "source": [
    "Checking for missing values"
   ]
  },
  {
   "cell_type": "code",
   "execution_count": 4,
   "metadata": {
    "scrolled": true
   },
   "outputs": [
    {
     "data": {
      "text/plain": [
       "class                       0\n",
       "cap_shape                   0\n",
       "cap_surface                 0\n",
       "cap_color                   0\n",
       "bruises                     0\n",
       "odor                        0\n",
       "gill_attachment             0\n",
       "gill_spacing                0\n",
       "gill_size                   0\n",
       "gill_color                  0\n",
       "stalk_shape                 0\n",
       "stalk_root                  0\n",
       "stalk_surface_above_ring    0\n",
       "stalk_surface_below_ring    0\n",
       "stalk_color_above_ring      0\n",
       "stalk_color_below_ring      0\n",
       "veil_type                   0\n",
       "veil_color                  0\n",
       "ring_number                 0\n",
       "ring_type                   0\n",
       "spore_print_color           0\n",
       "population                  0\n",
       "habitat                     0\n",
       "dtype: int64"
      ]
     },
     "execution_count": 4,
     "metadata": {},
     "output_type": "execute_result"
    }
   ],
   "source": [
    "train.head(5)\n",
    "train.isna().sum()\n",
    "#train['stalk-root'].unique()\n"
   ]
  },
  {
   "cell_type": "code",
   "execution_count": 5,
   "metadata": {
    "scrolled": true
   },
   "outputs": [
    {
     "data": {
      "text/plain": [
       "class                       object\n",
       "cap_shape                   object\n",
       "cap_surface                 object\n",
       "cap_color                   object\n",
       "bruises                     object\n",
       "odor                        object\n",
       "gill_attachment             object\n",
       "gill_spacing                object\n",
       "gill_size                   object\n",
       "gill_color                  object\n",
       "stalk_shape                 object\n",
       "stalk_root                  object\n",
       "stalk_surface_above_ring    object\n",
       "stalk_surface_below_ring    object\n",
       "stalk_color_above_ring      object\n",
       "stalk_color_below_ring      object\n",
       "veil_type                   object\n",
       "veil_color                  object\n",
       "ring_number                 object\n",
       "ring_type                   object\n",
       "spore_print_color           object\n",
       "population                  object\n",
       "habitat                     object\n",
       "dtype: object"
      ]
     },
     "execution_count": 5,
     "metadata": {},
     "output_type": "execute_result"
    }
   ],
   "source": [
    "train.dtypes"
   ]
  },
  {
   "cell_type": "markdown",
   "metadata": {},
   "source": [
    "Let's map Categorical variables"
   ]
  },
  {
   "cell_type": "code",
   "execution_count": 6,
   "metadata": {},
   "outputs": [
    {
     "data": {
      "text/plain": [
       "(23, 23)"
      ]
     },
     "execution_count": 6,
     "metadata": {},
     "output_type": "execute_result"
    }
   ],
   "source": [
    "mapping=[{'e':1,'p':0},\n",
    "         {'b':0,'c':1,'x':2,'f':3, 'k':4,'s':5},\n",
    "         {'f':0,'g':1,'y':2,'s':3},\n",
    "         {'n':0,'b':1,'c':2,'g':3,'r':4,'p':5,'u':6,'e':7,'w':8,'y':9},\n",
    "         {'t':1,'f':0},\n",
    "         {'a':1,'l':2,'c':3,'y':4,'f':5,'m':6,'n':0,'p':7,'s':8},\n",
    "         {'a':0,'d':1, 'f':2, 'n':3},\n",
    "         {'c':0,'w':1,'d':2},\n",
    "         {'b':0,'n':1},\n",
    "         {'k':0,'n':1,'b':2,'h':3,'g':4,'r':5,'o':6,'p':7,'u':8,'e':9,'w':10,'y':11},\n",
    "         {'e':0,'t':1},{'b':0,'c':1,'u':2,'e':3,'z':4,'r':5,'?':6},\n",
    "         {'f':0,'y':1,'k':2,'s':3},\n",
    "         {'f':0,'y':1,'k':2,'s':3},\n",
    "         {'n':0,'b':1,'c':2,'g':3,'o':4,'p':5,'e':5,'w':6,'y':7},\n",
    "         {'n':0,'b':1,'c':2,'g':3,'o':4,'p':5,'e':6,'w':7,'y':8},\n",
    "         {'p':0,'u':1},\n",
    "         {'n':0,'o':1,'w':2,'y':3},\n",
    "         {'n':0,'o':1,'t':2},\n",
    "         {'c':4,'e':1,'f':2,'l':3,'n':0,'p':5,'s':6,'z':7},\n",
    "         {'k':0,'n':1,'b':2,'h':3,'r':4,'o':5,'u':6,'w':7,'y':8},\n",
    "         {'a':0,'c':1,'n':2,'s':3,'v':4,'y':5},\n",
    "         {'g':0,'l':1,'m':2,'p':3,'u':4,'w':5,'d':6}]\n",
    "len(mapping),len(train.columns)"
   ]
  },
  {
   "cell_type": "code",
   "execution_count": 7,
   "metadata": {},
   "outputs": [],
   "source": [
    "for i in range(len(train.columns)):\n",
    "    train[train.columns[i]]=train[train.columns[i]].map(mapping[i]).astype(int)\n"
   ]
  },
  {
   "cell_type": "markdown",
   "metadata": {},
   "source": [
    "Data types have changed from object to int"
   ]
  },
  {
   "cell_type": "code",
   "execution_count": 8,
   "metadata": {},
   "outputs": [
    {
     "data": {
      "text/plain": [
       "(8124, 23)"
      ]
     },
     "execution_count": 8,
     "metadata": {},
     "output_type": "execute_result"
    }
   ],
   "source": [
    "train.shape"
   ]
  },
  {
   "cell_type": "markdown",
   "metadata": {},
   "source": [
    "Separating depend varible from predictors and splitting the dataset"
   ]
  },
  {
   "cell_type": "code",
   "execution_count": 9,
   "metadata": {},
   "outputs": [],
   "source": [
    "x=train.iloc[:,1:]\n",
    "y=train.iloc[:,0]\n",
    "x_tr,x_ts,y_tr,y_ts=train_test_split(x,y,test_size=0.2)"
   ]
  },
  {
   "cell_type": "markdown",
   "metadata": {},
   "source": [
    "Linear SVM"
   ]
  },
  {
   "cell_type": "code",
   "execution_count": 10,
   "metadata": {},
   "outputs": [
    {
     "data": {
      "text/plain": [
       "(0.9932307692307693, array([[779,   6],\n",
       "        [  5, 835]]))"
      ]
     },
     "execution_count": 10,
     "metadata": {},
     "output_type": "execute_result"
    }
   ],
   "source": [
    "svm = SVC(kernel='linear',random_state=0)\n",
    "svm.fit(x_tr,y_tr)\n",
    "ysvc_pred=svm.predict(x_ts)\n",
    "accuracy_score(y_ts,ysvc_pred),confusion_matrix(y_ts,ysvc_pred)\n"
   ]
  },
  {
   "cell_type": "markdown",
   "metadata": {},
   "source": [
    "Kernel SVM"
   ]
  },
  {
   "cell_type": "code",
   "execution_count": 11,
   "metadata": {},
   "outputs": [
    {
     "data": {
      "image/png": "[encoded data removed]",
      "text/plain": [
       "<Figure size 432x288 with 2 Axes>"
      ]
     },
     "metadata": {
      "needs_background": "light"
     },
     "output_type": "display_data"
    }
   ],
   "source": [
    "kersvm=SVC(kernel='rbf',random_state=0)\n",
    "kersvm.fit(x_tr,y_tr)\n",
    "yksvm_pred=kersvm.predict(x_ts)\n",
    "accuracy_score(y_ts,yksvm_pred)\n",
    "\n",
    "cm = confusion_matrix(y_ts,yksvm_pred)\n",
    "\n",
    "disp = ConfusionMatrixDisplay(confusion_matrix=cm).plot()"
   ]
  },
  {
   "cell_type": "markdown",
   "metadata": {},
   "source": [
    "Naive Bayes"
   ]
  },
  {
   "cell_type": "code",
   "execution_count": 17,
   "metadata": {
    "scrolled": true
   },
   "outputs": [
    {
     "ename": "AttributeError",
     "evalue": "'GaussianNB' object has no attribute 'summary'",
     "output_type": "error",
     "traceback": [
      "\u001b[0;31m---------------------------------------------------------------------------\u001b[0m",
      "\u001b[0;31mAttributeError\u001b[0m                            Traceback (most recent call last)",
      "\u001b[0;32m<ipython-input-17-6b8ea8326cad>\u001b[0m in \u001b[0;36m<module>\u001b[0;34m\u001b[0m\n\u001b[1;32m      1\u001b[0m \u001b[0mgnb\u001b[0m\u001b[0;34m=\u001b[0m\u001b[0mGaussianNB\u001b[0m\u001b[0;34m(\u001b[0m\u001b[0;34m)\u001b[0m\u001b[0;34m\u001b[0m\u001b[0;34m\u001b[0m\u001b[0m\n\u001b[1;32m      2\u001b[0m \u001b[0mgnb\u001b[0m\u001b[0;34m.\u001b[0m\u001b[0mfit\u001b[0m\u001b[0;34m(\u001b[0m\u001b[0mx_tr\u001b[0m\u001b[0;34m,\u001b[0m\u001b[0my_tr\u001b[0m\u001b[0;34m)\u001b[0m\u001b[0;34m\u001b[0m\u001b[0;34m\u001b[0m\u001b[0m\n\u001b[0;32m----> 3\u001b[0;31m \u001b[0mgnb\u001b[0m\u001b[0;34m.\u001b[0m\u001b[0msummary\u001b[0m\u001b[0;34m(\u001b[0m\u001b[0;34m)\u001b[0m\u001b[0;34m\u001b[0m\u001b[0;34m\u001b[0m\u001b[0m\n\u001b[0m\u001b[1;32m      4\u001b[0m \u001b[0mygnb_pred\u001b[0m\u001b[0;34m=\u001b[0m\u001b[0mgnb\u001b[0m\u001b[0;34m.\u001b[0m\u001b[0mpredict\u001b[0m\u001b[0;34m(\u001b[0m\u001b[0mx_ts\u001b[0m\u001b[0;34m)\u001b[0m\u001b[0;34m\u001b[0m\u001b[0;34m\u001b[0m\u001b[0m\n\u001b[1;32m      5\u001b[0m \u001b[0maccuracy_score\u001b[0m\u001b[0;34m(\u001b[0m\u001b[0my_ts\u001b[0m\u001b[0;34m,\u001b[0m\u001b[0mygnb_pred\u001b[0m\u001b[0;34m)\u001b[0m\u001b[0;34m\u001b[0m\u001b[0;34m\u001b[0m\u001b[0m\n",
      "\u001b[0;31mAttributeError\u001b[0m: 'GaussianNB' object has no attribute 'summary'"
     ]
    }
   ],
   "source": [
    "gnb=GaussianNB()\n",
    "gnb.fit(x_tr,y_tr)\n",
    "\n",
    "ygnb_pred=gnb.predict(x_ts)\n",
    "accuracy_score(y_ts,ygnb_pred)\n",
    "cm = confusion_matrix(y_ts,ygnb_pred)\n",
    "\n",
    "disp = ConfusionMatrixDisplay(confusion_matrix=cm).plot()"
   ]
  },
  {
   "cell_type": "markdown",
   "metadata": {},
   "source": [
    "Random Forest"
   ]
  },
  {
   "cell_type": "code",
   "execution_count": 13,
   "metadata": {},
   "outputs": [
    {
     "data": {
      "image/png": "[encoded data removed]",
      "text/plain": [
       "<Figure size 432x288 with 2 Axes>"
      ]
     },
     "metadata": {
      "needs_background": "light"
     },
     "output_type": "display_data"
    }
   ],
   "source": [
    "rf=RandomForestClassifier(random_state=0,n_estimators=100)\n",
    "rf.fit(x_tr,y_tr)\n",
    "yrf_pred=rf.predict(x_ts)\n",
    "accuracy_score(y_ts,yrf_pred)\n",
    "cm = confusion_matrix(y_ts,yrf_pred)\n",
    "\n",
    "disp = ConfusionMatrixDisplay(confusion_matrix=cm).plot()"
   ]
  },
  {
   "cell_type": "markdown",
   "metadata": {},
   "source": [
    "For the task submission , Using ANN"
   ]
  },
  {
   "cell_type": "code",
   "execution_count": 14,
   "metadata": {
    "scrolled": true
   },
   "outputs": [
    {
     "name": "stdout",
     "output_type": "stream",
     "text": [
      "Epoch 1/20\n",
      "204/204 [==============================] - 0s 1ms/step - loss: 0.2064 - accuracy: 0.9280 - val_loss: 0.0830 - val_accuracy: 0.9735\n",
      "Epoch 2/20\n",
      "204/204 [==============================] - 0s 795us/step - loss: 0.0555 - accuracy: 0.9829 - val_loss: 0.0527 - val_accuracy: 0.9785\n",
      "Epoch 3/20\n",
      "204/204 [==============================] - 0s 830us/step - loss: 0.0365 - accuracy: 0.9855 - val_loss: 0.0404 - val_accuracy: 0.9834\n",
      "Epoch 4/20\n",
      "204/204 [==============================] - 0s 811us/step - loss: 0.0249 - accuracy: 0.9905 - val_loss: 0.0279 - val_accuracy: 0.9865\n",
      "Epoch 5/20\n",
      "204/204 [==============================] - 0s 812us/step - loss: 0.0173 - accuracy: 0.9951 - val_loss: 0.0302 - val_accuracy: 0.9852\n",
      "Epoch 6/20\n",
      "204/204 [==============================] - 0s 815us/step - loss: 0.0119 - accuracy: 0.9975 - val_loss: 0.0124 - val_accuracy: 0.9957\n",
      "Epoch 7/20\n",
      "204/204 [==============================] - 0s 791us/step - loss: 0.0088 - accuracy: 0.9988 - val_loss: 0.0094 - val_accuracy: 0.9982\n",
      "Epoch 8/20\n",
      "204/204 [==============================] - 0s 790us/step - loss: 0.0065 - accuracy: 0.9994 - val_loss: 0.0069 - val_accuracy: 0.9988\n",
      "Epoch 9/20\n",
      "204/204 [==============================] - 0s 837us/step - loss: 0.0047 - accuracy: 0.9995 - val_loss: 0.0080 - val_accuracy: 0.9969\n",
      "Epoch 10/20\n",
      "204/204 [==============================] - 0s 800us/step - loss: 0.0039 - accuracy: 0.9998 - val_loss: 0.0037 - val_accuracy: 1.0000\n",
      "Epoch 11/20\n",
      "204/204 [==============================] - 0s 805us/step - loss: 0.0029 - accuracy: 0.9998 - val_loss: 0.0035 - val_accuracy: 1.0000\n",
      "Epoch 12/20\n",
      "204/204 [==============================] - 0s 788us/step - loss: 0.0023 - accuracy: 0.9997 - val_loss: 0.0025 - val_accuracy: 1.0000\n",
      "Epoch 13/20\n",
      "204/204 [==============================] - 0s 816us/step - loss: 0.0017 - accuracy: 1.0000 - val_loss: 0.0024 - val_accuracy: 1.0000\n",
      "Epoch 14/20\n",
      "204/204 [==============================] - 0s 789us/step - loss: 0.0018 - accuracy: 0.9998 - val_loss: 0.0018 - val_accuracy: 1.0000\n",
      "Epoch 15/20\n",
      "204/204 [==============================] - 0s 801us/step - loss: 0.0011 - accuracy: 1.0000 - val_loss: 0.0014 - val_accuracy: 1.0000\n",
      "Epoch 16/20\n",
      "204/204 [==============================] - 0s 866us/step - loss: 0.0010 - accuracy: 1.0000 - val_loss: 0.0011 - val_accuracy: 1.0000\n",
      "Epoch 17/20\n",
      "204/204 [==============================] - 0s 889us/step - loss: 7.7274e-04 - accuracy: 1.0000 - val_loss: 0.0013 - val_accuracy: 1.0000\n",
      "Epoch 18/20\n",
      "204/204 [==============================] - 0s 868us/step - loss: 7.1398e-04 - accuracy: 1.0000 - val_loss: 8.6275e-04 - val_accuracy: 1.0000\n",
      "Epoch 19/20\n",
      "204/204 [==============================] - 0s 838us/step - loss: 5.8390e-04 - accuracy: 1.0000 - val_loss: 7.3680e-04 - val_accuracy: 1.0000\n",
      "Epoch 20/20\n",
      "204/204 [==============================] - 0s 865us/step - loss: 5.0865e-04 - accuracy: 1.0000 - val_loss: 7.1366e-04 - val_accuracy: 1.0000\n",
      "Model: \"sequential\"\n",
      "_________________________________________________________________\n",
      "Layer (type)                 Output Shape              Param #   \n",
      "=================================================================\n",
      "dense (Dense)                (None, 22)                506       \n",
      "_________________________________________________________________\n",
      "dense_1 (Dense)              (None, 16)                368       \n",
      "_________________________________________________________________\n",
      "dense_2 (Dense)              (None, 1)                 17        \n",
      "=================================================================\n",
      "Total params: 891\n",
      "Trainable params: 891\n",
      "Non-trainable params: 0\n",
      "_________________________________________________________________\n"
     ]
    }
   ],
   "source": [
    "model = Sequential([\n",
    "    layers.Dense(22, activation='relu'),\n",
    "    layers.Dense(16, activation='relu'),\n",
    "    layers.Dense(1, activation='sigmoid')\n",
    "])\n",
    "\n",
    "epochs = 20\n",
    "\n",
    "model.compile(optimizer='adam',loss='binary_crossentropy',metrics=['accuracy'])\n",
    "history = model.fit(x_tr,y_tr,epochs=epochs, validation_data=(x_ts, y_ts))\n",
    "model.summary()\n"
   ]
  },
  {
   "cell_type": "code",
   "execution_count": 21,
   "metadata": {},
   "outputs": [
    {
     "name": "stdout",
     "output_type": "stream",
     "text": [
      "Epoch 1/100\n",
      "650/650 [==============================] - 1s 816us/step - loss: 0.1201 - accuracy: 0.9640 - val_loss: 0.0480 - val_accuracy: 0.9797\n",
      "Epoch 2/100\n",
      "650/650 [==============================] - 0s 676us/step - loss: 0.0324 - accuracy: 0.9878 - val_loss: 0.0263 - val_accuracy: 0.9871\n",
      "Epoch 3/100\n",
      "650/650 [==============================] - 0s 694us/step - loss: 0.0174 - accuracy: 0.9942 - val_loss: 0.0147 - val_accuracy: 0.9938\n",
      "Epoch 4/100\n",
      "650/650 [==============================] - 0s 698us/step - loss: 0.0104 - accuracy: 0.9975 - val_loss: 0.0095 - val_accuracy: 0.9969\n",
      "Epoch 5/100\n",
      "650/650 [==============================] - 0s 697us/step - loss: 0.0065 - accuracy: 0.9989 - val_loss: 0.0060 - val_accuracy: 0.9988\n",
      "Epoch 6/100\n",
      "650/650 [==============================] - 0s 703us/step - loss: 0.0043 - accuracy: 0.9995 - val_loss: 0.0043 - val_accuracy: 0.9994\n",
      "Epoch 7/100\n",
      "650/650 [==============================] - 0s 692us/step - loss: 0.0032 - accuracy: 0.9997 - val_loss: 0.0043 - val_accuracy: 0.9994\n",
      "Epoch 8/100\n",
      "650/650 [==============================] - 0s 713us/step - loss: 0.0031 - accuracy: 0.9992 - val_loss: 0.0022 - val_accuracy: 1.0000\n",
      "Epoch 9/100\n",
      "650/650 [==============================] - 0s 679us/step - loss: 0.0016 - accuracy: 0.9998 - val_loss: 0.0015 - val_accuracy: 1.0000\n",
      "Epoch 10/100\n",
      "650/650 [==============================] - 0s 690us/step - loss: 0.0015 - accuracy: 0.9995 - val_loss: 0.0028 - val_accuracy: 0.9988\n",
      "Epoch 11/100\n",
      "650/650 [==============================] - 0s 705us/step - loss: 0.0011 - accuracy: 0.9997 - val_loss: 0.0016 - val_accuracy: 1.0000\n",
      "Epoch 12/100\n",
      "650/650 [==============================] - 0s 726us/step - loss: 0.0017 - accuracy: 0.9995 - val_loss: 7.6286e-04 - val_accuracy: 1.0000\n",
      "Epoch 13/100\n",
      "650/650 [==============================] - 0s 716us/step - loss: 6.7134e-04 - accuracy: 0.9998 - val_loss: 5.6859e-04 - val_accuracy: 1.0000\n",
      "Epoch 14/100\n",
      "650/650 [==============================] - 0s 708us/step - loss: 4.8138e-04 - accuracy: 1.0000 - val_loss: 0.0011 - val_accuracy: 1.0000\n",
      "Epoch 15/100\n",
      "650/650 [==============================] - 0s 712us/step - loss: 7.9451e-04 - accuracy: 0.9998 - val_loss: 0.0044 - val_accuracy: 0.9975\n",
      "Epoch 16/100\n",
      "650/650 [==============================] - 0s 717us/step - loss: 5.2241e-04 - accuracy: 1.0000 - val_loss: 0.0010 - val_accuracy: 1.0000\n",
      "Epoch 17/100\n",
      "650/650 [==============================] - 0s 730us/step - loss: 1.9754e-04 - accuracy: 1.0000 - val_loss: 0.0016 - val_accuracy: 0.9988\n",
      "Epoch 18/100\n",
      "650/650 [==============================] - 0s 736us/step - loss: 0.0017 - accuracy: 0.9991 - val_loss: 3.7116e-04 - val_accuracy: 1.0000\n",
      "Epoch 19/100\n",
      "650/650 [==============================] - 0s 759us/step - loss: 1.7276e-04 - accuracy: 1.0000 - val_loss: 2.1083e-04 - val_accuracy: 1.0000\n",
      "Epoch 20/100\n",
      "650/650 [==============================] - 0s 723us/step - loss: 1.0628e-04 - accuracy: 1.0000 - val_loss: 1.7983e-04 - val_accuracy: 1.0000\n",
      "Epoch 21/100\n",
      "650/650 [==============================] - 0s 730us/step - loss: 9.1082e-05 - accuracy: 1.0000 - val_loss: 1.4914e-04 - val_accuracy: 1.0000\n",
      "Epoch 22/100\n",
      "650/650 [==============================] - 0s 760us/step - loss: 8.1227e-05 - accuracy: 1.0000 - val_loss: 2.2537e-04 - val_accuracy: 1.0000\n",
      "Epoch 23/100\n",
      "650/650 [==============================] - 0s 748us/step - loss: 2.5984e-04 - accuracy: 1.0000 - val_loss: 2.9996e-04 - val_accuracy: 1.0000\n",
      "Epoch 24/100\n",
      "650/650 [==============================] - 1s 790us/step - loss: 0.0021 - accuracy: 0.9992 - val_loss: 1.5898e-04 - val_accuracy: 1.0000\n",
      "Epoch 25/100\n",
      "650/650 [==============================] - 1s 777us/step - loss: 6.9130e-05 - accuracy: 1.0000 - val_loss: 9.1355e-05 - val_accuracy: 1.0000\n",
      "Epoch 26/100\n",
      "650/650 [==============================] - 1s 792us/step - loss: 5.1241e-05 - accuracy: 1.0000 - val_loss: 1.1416e-04 - val_accuracy: 1.0000\n",
      "Epoch 27/100\n",
      "650/650 [==============================] - 0s 763us/step - loss: 4.3539e-05 - accuracy: 1.0000 - val_loss: 8.5360e-05 - val_accuracy: 1.0000\n",
      "Epoch 28/100\n",
      "650/650 [==============================] - 0s 728us/step - loss: 4.0277e-05 - accuracy: 1.0000 - val_loss: 8.9938e-05 - val_accuracy: 1.0000\n",
      "Epoch 29/100\n",
      "650/650 [==============================] - 0s 699us/step - loss: 4.0338e-05 - accuracy: 1.0000 - val_loss: 7.0084e-05 - val_accuracy: 1.0000\n",
      "Epoch 30/100\n",
      "650/650 [==============================] - 0s 692us/step - loss: 2.4038e-05 - accuracy: 1.0000 - val_loss: 1.1805e-04 - val_accuracy: 1.0000\n",
      "Epoch 31/100\n",
      "650/650 [==============================] - 0s 708us/step - loss: 9.8955e-04 - accuracy: 0.9994 - val_loss: 1.8161e-04 - val_accuracy: 1.0000\n",
      "Epoch 32/100\n",
      "650/650 [==============================] - 0s 701us/step - loss: 3.8538e-05 - accuracy: 1.0000 - val_loss: 3.4933e-05 - val_accuracy: 1.0000\n",
      "Epoch 33/100\n",
      "650/650 [==============================] - 0s 704us/step - loss: 1.9545e-05 - accuracy: 1.0000 - val_loss: 3.7577e-05 - val_accuracy: 1.0000\n",
      "Epoch 34/100\n",
      "650/650 [==============================] - 0s 710us/step - loss: 1.9059e-05 - accuracy: 1.0000 - val_loss: 3.5764e-05 - val_accuracy: 1.0000\n",
      "Epoch 35/100\n",
      "650/650 [==============================] - 0s 697us/step - loss: 1.6936e-05 - accuracy: 1.0000 - val_loss: 3.7201e-05 - val_accuracy: 1.0000\n",
      "Epoch 36/100\n",
      "650/650 [==============================] - 0s 696us/step - loss: 1.6243e-05 - accuracy: 1.0000 - val_loss: 4.1038e-05 - val_accuracy: 1.0000\n",
      "Epoch 37/100\n",
      "650/650 [==============================] - 0s 695us/step - loss: 1.5293e-05 - accuracy: 1.0000 - val_loss: 3.0802e-05 - val_accuracy: 1.0000\n",
      "Epoch 38/100\n",
      "650/650 [==============================] - 0s 694us/step - loss: 1.4119e-05 - accuracy: 1.0000 - val_loss: 2.1152e-05 - val_accuracy: 1.0000\n",
      "Epoch 39/100\n",
      "650/650 [==============================] - 0s 691us/step - loss: 1.0776e-05 - accuracy: 1.0000 - val_loss: 1.7047e-05 - val_accuracy: 1.0000\n",
      "Epoch 40/100\n",
      "650/650 [==============================] - 0s 693us/step - loss: 8.5699e-06 - accuracy: 1.0000 - val_loss: 2.5287e-05 - val_accuracy: 1.0000\n",
      "Epoch 41/100\n",
      "650/650 [==============================] - 0s 688us/step - loss: 5.9270e-04 - accuracy: 0.9998 - val_loss: 1.0887e-05 - val_accuracy: 1.0000\n",
      "Epoch 42/100\n",
      "650/650 [==============================] - 0s 708us/step - loss: 6.7477e-06 - accuracy: 1.0000 - val_loss: 6.2582e-06 - val_accuracy: 1.0000\n",
      "Epoch 43/100\n",
      "650/650 [==============================] - 0s 710us/step - loss: 4.8321e-06 - accuracy: 1.0000 - val_loss: 6.2807e-06 - val_accuracy: 1.0000\n",
      "Epoch 44/100\n",
      "650/650 [==============================] - 0s 706us/step - loss: 4.1609e-06 - accuracy: 1.0000 - val_loss: 6.8450e-06 - val_accuracy: 1.0000\n",
      "Epoch 45/100\n",
      "650/650 [==============================] - 0s 695us/step - loss: 3.8633e-06 - accuracy: 1.0000 - val_loss: 5.3650e-06 - val_accuracy: 1.0000\n",
      "Epoch 46/100\n",
      "650/650 [==============================] - 0s 704us/step - loss: 3.5784e-06 - accuracy: 1.0000 - val_loss: 6.0540e-06 - val_accuracy: 1.0000\n",
      "Epoch 47/100\n",
      "650/650 [==============================] - 0s 696us/step - loss: 3.3047e-06 - accuracy: 1.0000 - val_loss: 6.5039e-06 - val_accuracy: 1.0000\n",
      "Epoch 48/100\n",
      "650/650 [==============================] - 0s 703us/step - loss: 2.8247e-06 - accuracy: 1.0000 - val_loss: 7.1675e-06 - val_accuracy: 1.0000\n",
      "Epoch 49/100\n",
      "650/650 [==============================] - 0s 699us/step - loss: 2.8368e-06 - accuracy: 1.0000 - val_loss: 5.8452e-06 - val_accuracy: 1.0000\n",
      "Epoch 50/100\n",
      "650/650 [==============================] - 0s 712us/step - loss: 2.6815e-06 - accuracy: 1.0000 - val_loss: 4.5187e-06 - val_accuracy: 1.0000\n",
      "Epoch 51/100\n",
      "650/650 [==============================] - 0s 713us/step - loss: 2.0477e-06 - accuracy: 1.0000 - val_loss: 5.8056e-06 - val_accuracy: 1.0000\n",
      "Epoch 52/100\n",
      "650/650 [==============================] - 0s 693us/step - loss: 1.7106e-06 - accuracy: 1.0000 - val_loss: 8.9081e-06 - val_accuracy: 1.0000\n",
      "Epoch 53/100\n",
      "650/650 [==============================] - 0s 703us/step - loss: 4.0349e-06 - accuracy: 1.0000 - val_loss: 1.3938e-05 - val_accuracy: 1.0000\n",
      "Epoch 54/100\n",
      "650/650 [==============================] - 0s 711us/step - loss: 2.7871e-06 - accuracy: 1.0000 - val_loss: 0.0063 - val_accuracy: 0.9969\n",
      "Epoch 55/100\n"
     ]
    },
    {
     "name": "stdout",
     "output_type": "stream",
     "text": [
      "650/650 [==============================] - 0s 732us/step - loss: 4.8607e-04 - accuracy: 0.9998 - val_loss: 6.8640e-06 - val_accuracy: 1.0000\n",
      "Epoch 56/100\n",
      "650/650 [==============================] - 0s 724us/step - loss: 2.7093e-06 - accuracy: 1.0000 - val_loss: 5.8705e-06 - val_accuracy: 1.0000\n",
      "Epoch 57/100\n",
      "650/650 [==============================] - 0s 730us/step - loss: 2.2846e-06 - accuracy: 1.0000 - val_loss: 4.3631e-06 - val_accuracy: 1.0000\n",
      "Epoch 58/100\n",
      "650/650 [==============================] - 0s 736us/step - loss: 1.9784e-06 - accuracy: 1.0000 - val_loss: 3.6653e-06 - val_accuracy: 1.0000\n",
      "Epoch 59/100\n",
      "650/650 [==============================] - 0s 720us/step - loss: 1.7299e-06 - accuracy: 1.0000 - val_loss: 3.8215e-06 - val_accuracy: 1.0000\n",
      "Epoch 60/100\n",
      "650/650 [==============================] - 0s 745us/step - loss: 1.5724e-06 - accuracy: 1.0000 - val_loss: 3.3282e-06 - val_accuracy: 1.0000\n",
      "Epoch 61/100\n",
      "650/650 [==============================] - 0s 734us/step - loss: 1.4510e-06 - accuracy: 1.0000 - val_loss: 2.6728e-06 - val_accuracy: 1.0000\n",
      "Epoch 62/100\n",
      "650/650 [==============================] - 0s 728us/step - loss: 1.3479e-06 - accuracy: 1.0000 - val_loss: 2.3802e-06 - val_accuracy: 1.0000\n",
      "Epoch 63/100\n",
      "650/650 [==============================] - 0s 713us/step - loss: 1.2389e-06 - accuracy: 1.0000 - val_loss: 1.8979e-06 - val_accuracy: 1.0000\n",
      "Epoch 64/100\n",
      "650/650 [==============================] - 0s 714us/step - loss: 1.1397e-06 - accuracy: 1.0000 - val_loss: 1.7532e-06 - val_accuracy: 1.0000\n",
      "Epoch 65/100\n",
      "650/650 [==============================] - 0s 732us/step - loss: 1.1316e-06 - accuracy: 1.0000 - val_loss: 1.5069e-06 - val_accuracy: 1.0000\n",
      "Epoch 66/100\n",
      "650/650 [==============================] - 0s 748us/step - loss: 8.8650e-07 - accuracy: 1.0000 - val_loss: 2.6494e-06 - val_accuracy: 1.0000\n",
      "Epoch 67/100\n",
      "650/650 [==============================] - 0s 749us/step - loss: 1.0181e-06 - accuracy: 1.0000 - val_loss: 2.8120e-06 - val_accuracy: 1.0000\n",
      "Epoch 68/100\n",
      "650/650 [==============================] - 0s 763us/step - loss: 9.2547e-07 - accuracy: 1.0000 - val_loss: 1.8656e-06 - val_accuracy: 1.0000\n",
      "Epoch 69/100\n",
      "650/650 [==============================] - 0s 753us/step - loss: 8.3846e-07 - accuracy: 1.0000 - val_loss: 1.4025e-06 - val_accuracy: 1.0000\n",
      "Epoch 70/100\n",
      "650/650 [==============================] - 0s 747us/step - loss: 7.4835e-04 - accuracy: 0.9998 - val_loss: 1.7088e-04 - val_accuracy: 1.0000\n",
      "Epoch 71/100\n",
      "650/650 [==============================] - 0s 757us/step - loss: 4.5155e-05 - accuracy: 1.0000 - val_loss: 3.9152e-04 - val_accuracy: 1.0000\n",
      "Epoch 72/100\n",
      "650/650 [==============================] - 0s 755us/step - loss: 1.0936e-05 - accuracy: 1.0000 - val_loss: 9.7584e-06 - val_accuracy: 1.0000\n",
      "Epoch 73/100\n",
      "650/650 [==============================] - 0s 735us/step - loss: 6.3030e-06 - accuracy: 1.0000 - val_loss: 2.1711e-05 - val_accuracy: 1.0000\n",
      "Epoch 74/100\n",
      "650/650 [==============================] - 0s 764us/step - loss: 5.2059e-06 - accuracy: 1.0000 - val_loss: 6.4282e-06 - val_accuracy: 1.0000\n",
      "Epoch 75/100\n",
      "650/650 [==============================] - 0s 746us/step - loss: 3.2649e-06 - accuracy: 1.0000 - val_loss: 1.1426e-05 - val_accuracy: 1.0000\n",
      "Epoch 76/100\n",
      "650/650 [==============================] - 0s 766us/step - loss: 3.3361e-06 - accuracy: 1.0000 - val_loss: 4.9746e-06 - val_accuracy: 1.0000\n",
      "Epoch 77/100\n",
      "650/650 [==============================] - 0s 743us/step - loss: 2.4520e-06 - accuracy: 1.0000 - val_loss: 3.7975e-06 - val_accuracy: 1.0000\n",
      "Epoch 78/100\n",
      "650/650 [==============================] - 1s 772us/step - loss: 2.3291e-06 - accuracy: 1.0000 - val_loss: 3.3417e-06 - val_accuracy: 1.0000\n",
      "Epoch 79/100\n",
      "650/650 [==============================] - 0s 769us/step - loss: 1.8686e-06 - accuracy: 1.0000 - val_loss: 1.2661e-05 - val_accuracy: 1.0000\n",
      "Epoch 80/100\n",
      "650/650 [==============================] - 0s 768us/step - loss: 1.7513e-06 - accuracy: 1.0000 - val_loss: 2.1782e-06 - val_accuracy: 1.0000\n",
      "Epoch 81/100\n",
      "650/650 [==============================] - 0s 750us/step - loss: 1.5658e-06 - accuracy: 1.0000 - val_loss: 3.5103e-06 - val_accuracy: 1.0000\n",
      "Epoch 82/100\n",
      "650/650 [==============================] - 1s 794us/step - loss: 1.1562e-06 - accuracy: 1.0000 - val_loss: 2.1676e-06 - val_accuracy: 1.0000\n",
      "Epoch 83/100\n",
      "650/650 [==============================] - 0s 769us/step - loss: 7.5261e-07 - accuracy: 1.0000 - val_loss: 1.6675e-06 - val_accuracy: 1.0000\n",
      "Epoch 84/100\n",
      "650/650 [==============================] - 0s 755us/step - loss: 6.5723e-07 - accuracy: 1.0000 - val_loss: 8.8020e-07 - val_accuracy: 1.0000\n",
      "Epoch 85/100\n",
      "650/650 [==============================] - 0s 760us/step - loss: 4.2425e-07 - accuracy: 1.0000 - val_loss: 7.1489e-07 - val_accuracy: 1.0000\n",
      "Epoch 86/100\n",
      "650/650 [==============================] - 0s 761us/step - loss: 0.0027 - accuracy: 0.9997 - val_loss: 5.6505e-05 - val_accuracy: 1.0000\n",
      "Epoch 87/100\n",
      "650/650 [==============================] - 0s 758us/step - loss: 1.2848e-05 - accuracy: 1.0000 - val_loss: 1.9457e-05 - val_accuracy: 1.0000\n",
      "Epoch 88/100\n",
      "650/650 [==============================] - 1s 782us/step - loss: 5.0645e-06 - accuracy: 1.0000 - val_loss: 1.0562e-05 - val_accuracy: 1.0000\n",
      "Epoch 89/100\n",
      "650/650 [==============================] - 0s 744us/step - loss: 2.9841e-06 - accuracy: 1.0000 - val_loss: 6.5610e-06 - val_accuracy: 1.0000\n",
      "Epoch 90/100\n",
      "650/650 [==============================] - 0s 746us/step - loss: 1.9511e-06 - accuracy: 1.0000 - val_loss: 4.4700e-06 - val_accuracy: 1.0000\n",
      "Epoch 91/100\n",
      "650/650 [==============================] - 0s 744us/step - loss: 1.3728e-06 - accuracy: 1.0000 - val_loss: 3.0114e-06 - val_accuracy: 1.0000\n",
      "Epoch 92/100\n",
      "650/650 [==============================] - 0s 712us/step - loss: 9.8983e-07 - accuracy: 1.0000 - val_loss: 2.1967e-06 - val_accuracy: 1.0000\n",
      "Epoch 93/100\n",
      "650/650 [==============================] - 0s 725us/step - loss: 7.3004e-07 - accuracy: 1.0000 - val_loss: 1.5299e-06 - val_accuracy: 1.0000\n",
      "Epoch 94/100\n",
      "650/650 [==============================] - 0s 728us/step - loss: 5.5277e-07 - accuracy: 1.0000 - val_loss: 1.2783e-06 - val_accuracy: 1.0000\n",
      "Epoch 95/100\n",
      "650/650 [==============================] - 0s 722us/step - loss: 4.4832e-07 - accuracy: 1.0000 - val_loss: 1.0813e-06 - val_accuracy: 1.0000\n",
      "Epoch 96/100\n",
      "650/650 [==============================] - 0s 720us/step - loss: 3.8237e-07 - accuracy: 1.0000 - val_loss: 8.5405e-07 - val_accuracy: 1.0000\n",
      "Epoch 97/100\n",
      "650/650 [==============================] - 0s 701us/step - loss: 3.2880e-07 - accuracy: 1.0000 - val_loss: 6.5259e-07 - val_accuracy: 1.0000\n",
      "Epoch 98/100\n",
      "650/650 [==============================] - 0s 700us/step - loss: 2.9347e-07 - accuracy: 1.0000 - val_loss: 5.8017e-07 - val_accuracy: 1.0000\n",
      "Epoch 99/100\n",
      "650/650 [==============================] - 0s 713us/step - loss: 2.6573e-07 - accuracy: 1.0000 - val_loss: 7.3182e-07 - val_accuracy: 1.0000\n",
      "Epoch 100/100\n",
      "650/650 [==============================] - 0s 696us/step - loss: 2.3935e-07 - accuracy: 1.0000 - val_loss: 4.1392e-07 - val_accuracy: 1.0000\n"
     ]
    }
   ],
   "source": [
    "classifier=Sequential()\n",
    "classifier.add(Dense(64,activation='relu',input_dim=22))\n",
    "#classifier.add(Dense(output_dim=1,init='uniform',activation='relu'))\n",
    "classifier.add(Dense(1,activation='sigmoid'))\n",
    "classifier.compile(optimizer='adam',loss='binary_crossentropy',metrics=['accuracy'])\n",
    "history = classifier.fit(x_tr,y_tr,batch_size=10,epochs=100, validation_data=(x_ts, y_ts))"
   ]
  },
  {
   "cell_type": "code",
   "execution_count": 22,
   "metadata": {
    "scrolled": false
   },
   "outputs": [
    {
     "data": {
      "image/png": "[encoded data removed]",
      "text/plain": [
       "<Figure size 576x576 with 2 Axes>"
      ]
     },
     "metadata": {
      "needs_background": "light"
     },
     "output_type": "display_data"
    }
   ],
   "source": [
    "acc = history.history['accuracy']\n",
    "val_acc = history.history['val_accuracy']\n",
    "\n",
    "loss = history.history['loss']\n",
    "val_loss = history.history['val_loss']\n",
    "\n",
    "epochs_range = range(100)\n",
    "\n",
    "plt.figure(figsize=(8, 8))\n",
    "plt.subplot(1, 2, 1)\n",
    "plt.plot(epochs_range, acc, label='Training Accuracy')\n",
    "plt.plot(epochs_range, val_acc, label='Validation Accuracy')\n",
    "plt.legend(loc='lower right')\n",
    "plt.title('Training and Validation Accuracy')\n",
    "\n",
    "plt.subplot(1, 2, 2)\n",
    "plt.plot(epochs_range, loss, label='Training Loss')\n",
    "plt.plot(epochs_range, val_loss, label='Validation Loss')\n",
    "plt.legend(loc='upper right')\n",
    "plt.title('Training and Validation Loss')\n",
    "plt.show()"
   ]
  },
  {
   "cell_type": "code",
   "execution_count": 16,
   "metadata": {
    "scrolled": true
   },
   "outputs": [
    {
     "data": {
      "image/png": "[encoded data removed]",
      "text/plain": [
       "<Figure size 432x288 with 2 Axes>"
      ]
     },
     "metadata": {
      "needs_background": "light"
     },
     "output_type": "display_data"
    }
   ],
   "source": [
    "y_pred=model.predict(x_ts)\n",
    "y_pred=y_pred>0.5\n",
    "\n",
    "cm = confusion_matrix(y_ts, y_pred)  \n",
    "\n",
    "disp = ConfusionMatrixDisplay(confusion_matrix=cm).plot()"
   ]
  },
  {
   "cell_type": "markdown",
   "metadata": {},
   "source": [
    "The unmaaping can be done in the same using dictonaries . This shows how simple encoding helps model predict give accurate results. If you found this helpful do upvote.  Thanks in advance !. "
   ]
  }
 ],
 "metadata": {
  "kernelspec": {
   "display_name": "Python 3",
   "language": "python",
   "name": "python3"
  },
  "language_info": {
   "codemirror_mode": {
    "name": "ipython",
    "version": 3
   },
   "file_extension": ".py",
   "mimetype": "text/x-python",
   "name": "python",
   "nbconvert_exporter": "python",
   "pygments_lexer": "ipython3",
   "version": "3.7.4"
  }
 },
 "nbformat": 4,
 "nbformat_minor": 1
}
